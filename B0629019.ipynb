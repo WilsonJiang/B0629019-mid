{
 "cells": [
  {
   "cell_type": "code",
   "execution_count": 28,
   "metadata": {},
   "outputs": [],
   "source": [
    "from __future__ import print_function, division\n",
    "\n",
    "%matplotlib inline\n",
    "\n",
    "import thinkdsp\n",
    "import thinkplot\n",
    "import numpy as np\n",
    "\n",
    "from thinkdsp import Spectrogram\n",
    "from ipywidgets import interact, interactive, fixed\n",
    "import ipywidgets as widgets"
   ]
  },
  {
   "cell_type": "code",
   "execution_count": 29,
   "metadata": {},
   "outputs": [],
   "source": [
    "import thinkdsp as td\n",
    "\n",
    "class WKTrombone(td.Chirp):\n",
    "    def evaluate(self, ts):\n",
    "        l1, l2=  1.0/self.start, 1.0/self.end\n",
    "        lengths= np.linspace(l1, l2, len(ts)-1)\n",
    "        freqs=   1/lengths\n",
    "        return self._evaluate(ts, freqs)"
   ]
  },
  {
   "cell_type": "code",
   "execution_count": null,
   "metadata": {},
   "outputs": [],
   "source": []
  },
  {
   "cell_type": "code",
   "execution_count": 30,
   "metadata": {},
   "outputs": [],
   "source": [
    "class Spectrogram:\n",
    "    \"\"\"Represents the spectrum of a signal.\"\"\"\n",
    "\n",
    "    def __init__(self, spec_map, seg_length):\n",
    "        \"\"\"Initialize the spectrogram.\n",
    "        spec_map: map from float time to Spectrum\n",
    "        seg_length: number of samples in each segment\n",
    "        \"\"\"\n",
    "        self.spec_map = spec_map\n",
    "        self.seg_length = seg_length\n",
    "\n",
    "    def any_spectrum(self):\n",
    "        \"\"\"Returns an arbitrary spectrum from the spectrogram.\"\"\"\n",
    "        index = next(iter(self.spec_map))\n",
    "        return self.spec_map[index]\n",
    "\n",
    "    @property\n",
    "    def time_res(self):\n",
    "        \"\"\"Time resolution in seconds.\"\"\"\n",
    "        spectrum = self.any_spectrum()\n",
    "        return float(self.seg_length) / spectrum.framerate\n",
    "\n",
    "    @property\n",
    "    def freq_res(self):\n",
    "        \"\"\"Frequency resolution in Hz.\"\"\"\n",
    "        return self.any_spectrum().freq_res\n",
    "\n",
    "    def times(self):\n",
    "        \"\"\"Sorted sequence of times.\n",
    "        returns: sequence of float times in seconds\n",
    "        \"\"\"\n",
    "        ts = sorted(iter(self.spec_map))\n",
    "        return ts\n",
    "\n",
    "    def frequencies(self):\n",
    "        \"\"\"Sequence of frequencies.\n",
    "        returns: sequence of float freqencies in Hz.\n",
    "        \"\"\"\n",
    "        fs = self.any_spectrum().fs\n",
    "        return fs\n",
    "\n",
    "    def plot(self, high=None, **options):\n",
    "        \"\"\"Make a pseudocolor plot.\n",
    "        high: highest frequency component to plot\n",
    "        \"\"\"\n",
    "        fs = self.frequencies()\n",
    "        i = None if high is None else find_index(high, fs)\n",
    "        fs = fs[:i]\n",
    "        ts = self.times()\n",
    "\n",
    "        # make the array\n",
    "        size = len(fs), len(ts)\n",
    "        array = np.zeros(size, dtype=np.float)\n",
    "\n",
    "        # copy amplitude from each spectrum into a column of the array\n",
    "        for j, t in enumerate(ts):\n",
    "            spectrum = self.spec_map[t]\n",
    "            array[:, j] = spectrum.amps[:i]\n",
    "\n",
    "        thinkplot.pcolor(ts, fs, array, **options)\n",
    "\n",
    "    def make_wave(self):\n",
    "        \"\"\"Inverts the spectrogram and returns a Wave.\n",
    "        returns: Wave\n",
    "        \"\"\"\n",
    "        res = []\n",
    "        for t, spectrum in sorted(self.spec_map.items()):\n",
    "            wave = spectrum.make_wave()\n",
    "            n = len(wave)\n",
    "\n",
    "            window = 1 / np.hamming(n)\n",
    "            wave.window(window)\n",
    "\n",
    "            i = wave.find_index(t)\n",
    "            start = i - n // 2\n",
    "            end = start + n\n",
    "            res.append((start, end, wave))\n",
    "\n",
    "        starts, ends, waves = zip(*res)\n",
    "        low = min(starts)\n",
    "        high = max(ends)\n",
    "\n",
    "        ys = np.zeros(high - low, np.float)\n",
    "        for start, end, wave in res:\n",
    "            ys[start:end] = wave.ys\n",
    "\n",
    "        # ts = np.arange(len(ys)) / self.framerate\n",
    "        return Wave(ys, framerate=wave.framerate)"
   ]
  },
  {
   "cell_type": "code",
   "execution_count": 24,
   "metadata": {},
   "outputs": [
    {
     "ename": "AttributeError",
     "evalue": "'WKTrombone' object has no attribute 'make_spectrogram'",
     "output_type": "error",
     "traceback": [
      "\u001b[1;31m---------------------------------------------------------------------------\u001b[0m",
      "\u001b[1;31mAttributeError\u001b[0m                            Traceback (most recent call last)",
      "\u001b[1;32m<ipython-input-24-b399fc48edbc>\u001b[0m in \u001b[0;36m<module>\u001b[1;34m\u001b[0m\n\u001b[0;32m      4\u001b[0m \u001b[0ms1\u001b[0m\u001b[1;33m=\u001b[0m \u001b[0mWKTrombone\u001b[0m\u001b[1;33m(\u001b[0m\u001b[0mstart\u001b[0m\u001b[1;33m=\u001b[0m \u001b[0mA3\u001b[0m\u001b[1;33m,\u001b[0m \u001b[0mend\u001b[0m\u001b[1;33m=\u001b[0m \u001b[0mA4\u001b[0m\u001b[1;33m)\u001b[0m\u001b[1;33m\u001b[0m\u001b[1;33m\u001b[0m\u001b[0m\n\u001b[0;32m      5\u001b[0m \u001b[0ms1\u001b[0m\u001b[1;33m.\u001b[0m\u001b[0mmake_wave\u001b[0m\u001b[1;33m(\u001b[0m\u001b[0mduration\u001b[0m\u001b[1;33m=\u001b[0m\u001b[1;36m1\u001b[0m\u001b[1;33m)\u001b[0m\u001b[1;33m\u001b[0m\u001b[1;33m\u001b[0m\u001b[0m\n\u001b[1;32m----> 6\u001b[1;33m \u001b[0ms1\u001b[0m\u001b[1;33m.\u001b[0m\u001b[0mmake_spectrogram\u001b[0m\u001b[1;33m(\u001b[0m\u001b[1;36m512\u001b[0m\u001b[1;33m)\u001b[0m\u001b[1;33m.\u001b[0m\u001b[0mplot\u001b[0m\u001b[1;33m(\u001b[0m\u001b[0mhigh\u001b[0m\u001b[1;33m=\u001b[0m\u001b[1;36m1000\u001b[0m\u001b[1;33m)\u001b[0m\u001b[1;33m\u001b[0m\u001b[1;33m\u001b[0m\u001b[0m\n\u001b[0m\u001b[0;32m      7\u001b[0m \u001b[0ms1\u001b[0m\u001b[1;33m.\u001b[0m\u001b[0mmake_audio\u001b[0m\u001b[1;33m(\u001b[0m\u001b[1;33m)\u001b[0m\u001b[1;33m\u001b[0m\u001b[1;33m\u001b[0m\u001b[0m\n",
      "\u001b[1;31mAttributeError\u001b[0m: 'WKTrombone' object has no attribute 'make_spectrogram'"
     ]
    }
   ],
   "source": [
    "A3=  220 \n",
    "E3=  330\n",
    "A4=  440\n",
    "s1= WKTrombone(start= A3, end= A4)\n",
    "s1.make_wave(duration=1)\n",
    "s1.make_spectrogram(512).plot(high=1000)\n",
    "s1.make_audio()"
   ]
  },
  {
   "cell_type": "code",
   "execution_count": null,
   "metadata": {},
   "outputs": [],
   "source": []
  },
  {
   "cell_type": "code",
   "execution_count": null,
   "metadata": {},
   "outputs": [],
   "source": []
  },
  {
   "cell_type": "code",
   "execution_count": null,
   "metadata": {},
   "outputs": [],
   "source": []
  }
 ],
 "metadata": {
  "kernelspec": {
   "display_name": "Python 3",
   "language": "python",
   "name": "python3"
  },
  "language_info": {
   "codemirror_mode": {
    "name": "ipython",
    "version": 3
   },
   "file_extension": ".py",
   "mimetype": "text/x-python",
   "name": "python",
   "nbconvert_exporter": "python",
   "pygments_lexer": "ipython3",
   "version": "3.7.6"
  }
 },
 "nbformat": 4,
 "nbformat_minor": 4
}
